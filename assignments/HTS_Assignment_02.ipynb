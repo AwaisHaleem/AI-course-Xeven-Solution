{
 "cells": [
  {
   "cell_type": "code",
   "execution_count": 1,
   "metadata": {},
   "outputs": [],
   "source": [
    "fruits = [\"orange\", \"banana\", \"apple\"]"
   ]
  },
  {
   "cell_type": "code",
   "execution_count": 2,
   "metadata": {},
   "outputs": [
    {
     "data": {
      "text/plain": [
       "(5, 6, 3, 6, 2)"
      ]
     },
     "execution_count": 2,
     "metadata": {},
     "output_type": "execute_result"
    }
   ],
   "source": [
    "number = (5, 6, 3, 6, 2)\n",
    "number"
   ]
  },
  {
   "cell_type": "code",
   "execution_count": 3,
   "metadata": {},
   "outputs": [
    {
     "data": {
      "text/plain": [
       "{'White', 'Yellow', 'red'}"
      ]
     },
     "execution_count": 3,
     "metadata": {},
     "output_type": "execute_result"
    }
   ],
   "source": [
    "color = {\"red\", \"Yellow\", \"White\"}\n",
    "color"
   ]
  },
  {
   "cell_type": "code",
   "execution_count": 4,
   "metadata": {},
   "outputs": [
    {
     "data": {
      "text/plain": [
       "{'name': 'Ali', 'age': 22, 'grade': 'A'}"
      ]
     },
     "execution_count": 4,
     "metadata": {},
     "output_type": "execute_result"
    }
   ],
   "source": [
    "student = {\n",
    "    \"name\": \"Ali\",\n",
    "    \"age\": 22,\n",
    "    \"grade\": \"A\"\n",
    "}\n",
    "student\n"
   ]
  },
  {
   "cell_type": "code",
   "execution_count": 5,
   "metadata": {},
   "outputs": [
    {
     "data": {
      "text/plain": [
       "\"\\nIn a world adorned with hues of gold,\\nA tale of love begins to unfold.\\nAs a young lad's heart finds its way,\\nTo a maiden fair on a summer's day.\\n\\nWith trembling hands and words unsaid,\\nHe weaves his feelings, like threads spread.\\nUpon the canvas of his tender soul,\\nA poem emerges, his heart's sweet toll.\\n\\nIn her eyes, he sees a starlit night,\\nA twinkling universe, shining bright.\\nHer smile, a blooming blossom of grace,\\nRadiates warmth in his poetic space.\\n\\nWith quill in hand and ink that flows,\\nHe pens his verses, as passion grows.\\nEach word a brushstroke on love's canvas,\\nTo capture the essence of this enchantress.\\n\\nThe rhythm dances to their hearts' beat,\\nAs their souls collide, destiny complete.\\nFor in this poem, their fates entwined,\\nTheir love's symphony forever enshrined.\\n\\nThough a young lad's words may be unsure,\\nHis emotions pure, his love secure.\\nThrough ink and paper, his heart takes flight,\\nIn this poem, his love shines so bright.\\n\\nAnd as he shares his verses so true,\\nHer heart discovers love anew.\\nFor in this poem, their love finds voice,\\nA testament to a young lad's choice.\""
      ]
     },
     "execution_count": 5,
     "metadata": {},
     "output_type": "execute_result"
    }
   ],
   "source": [
    "poem = \"\"\"\n",
    "In a world adorned with hues of gold,\n",
    "A tale of love begins to unfold.\n",
    "As a young lad's heart finds its way,\n",
    "To a maiden fair on a summer's day.\n",
    "\n",
    "With trembling hands and words unsaid,\n",
    "He weaves his feelings, like threads spread.\n",
    "Upon the canvas of his tender soul,\n",
    "A poem emerges, his heart's sweet toll.\n",
    "\n",
    "In her eyes, he sees a starlit night,\n",
    "A twinkling universe, shining bright.\n",
    "Her smile, a blooming blossom of grace,\n",
    "Radiates warmth in his poetic space.\n",
    "\n",
    "With quill in hand and ink that flows,\n",
    "He pens his verses, as passion grows.\n",
    "Each word a brushstroke on love's canvas,\n",
    "To capture the essence of this enchantress.\n",
    "\n",
    "The rhythm dances to their hearts' beat,\n",
    "As their souls collide, destiny complete.\n",
    "For in this poem, their fates entwined,\n",
    "Their love's symphony forever enshrined.\n",
    "\n",
    "Though a young lad's words may be unsure,\n",
    "His emotions pure, his love secure.\n",
    "Through ink and paper, his heart takes flight,\n",
    "In this poem, his love shines so bright.\n",
    "\n",
    "And as he shares his verses so true,\n",
    "Her heart discovers love anew.\n",
    "For in this poem, their love finds voice,\n",
    "A testament to a young lad's choice.\"\"\"\n",
    "poem"
   ]
  },
  {
   "cell_type": "code",
   "execution_count": 11,
   "metadata": {},
   "outputs": [],
   "source": [
    "if len(fruits)> 3:\n",
    "    print(\"You have many fruits\")"
   ]
  }
 ],
 "metadata": {
  "kernelspec": {
   "display_name": "base",
   "language": "python",
   "name": "python3"
  },
  "language_info": {
   "codemirror_mode": {
    "name": "ipython",
    "version": 3
   },
   "file_extension": ".py",
   "mimetype": "text/x-python",
   "name": "python",
   "nbconvert_exporter": "python",
   "pygments_lexer": "ipython3",
   "version": "3.10.9"
  },
  "orig_nbformat": 4
 },
 "nbformat": 4,
 "nbformat_minor": 2
}
