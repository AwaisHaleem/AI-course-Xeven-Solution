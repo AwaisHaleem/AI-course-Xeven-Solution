{
 "cells": [
  {
   "cell_type": "code",
   "execution_count": 4,
   "metadata": {},
   "outputs": [
    {
     "name": "stdout",
     "output_type": "stream",
     "text": [
      "1 * 5 = 5\n",
      "2 * 5 = 10\n",
      "3 * 5 = 15\n",
      "4 * 5 = 20\n",
      "5 * 5 = 25\n",
      "6 * 5 = 30\n",
      "7 * 5 = 35\n",
      "8 * 5 = 40\n",
      "9 * 5 = 45\n",
      "10 * 5 = 50\n"
     ]
    }
   ],
   "source": [
    "# multiplication table using for loop\n",
    "table_number = 5 # select the number for table\n",
    "\n",
    "for i in range(1, 11): # gives the number from 1 to 10 for multiplication\n",
    "    result =f\"{i} * {table_number} = {i*table_number}\" # write a single talble line with formatted string\n",
    "    print(result)"
   ]
  },
  {
   "cell_type": "code",
   "execution_count": 7,
   "metadata": {},
   "outputs": [
    {
     "name": "stdout",
     "output_type": "stream",
     "text": [
      "even number 2\n",
      "even number 4\n",
      "even number 6\n",
      "even number 8\n",
      "even number 10\n"
     ]
    }
   ],
   "source": [
    "# Write a program that prints all the even numbers from 1 to 10 using a while loop\n",
    "\n",
    "start = 1\n",
    "while True: # start while loop \n",
    "    if start%2 == 0: # check if number is even\n",
    "        print(f\"even number {start}\")   # print even number\n",
    "\n",
    "    if start == 10: # finish the loop when number is 10\n",
    "        break\n",
    "    start += 1  # add one inncrement in start\n"
   ]
  },
  {
   "cell_type": "code",
   "execution_count": 9,
   "metadata": {},
   "outputs": [
    {
     "name": "stdout",
     "output_type": "stream",
     "text": [
      "hello sufyan\n"
     ]
    }
   ],
   "source": [
    "# Write a function called \"greet_user\" that takes a user's name as an argument and\n",
    "# prints a personalized greeting message.\n",
    "\n",
    "def greet_user(name): # declare function with one parameter\n",
    "    print(f\"hello {name}\") # greet with argument name\n",
    "\n",
    "greet_user(\"sufyan\")"
   ]
  },
  {
   "cell_type": "code",
   "execution_count": 13,
   "metadata": {},
   "outputs": [
    {
     "data": {
      "text/plain": [
       "True"
      ]
     },
     "execution_count": 13,
     "metadata": {},
     "output_type": "execute_result"
    }
   ],
   "source": [
    "# Write a function called \"is_even\" that takes a number as an argument and returns\n",
    "# True if the number is even, and False otherwise.\n",
    "\n",
    "def is_even(number): # declare function with one parameter\n",
    "    return number%2 == 0 # check the condition if number is even and return true or false\n",
    "\n",
    "# is_even(5)\n",
    "is_even(8)"
   ]
  },
  {
   "cell_type": "code",
   "execution_count": null,
   "metadata": {},
   "outputs": [],
   "source": []
  }
 ],
 "metadata": {
  "kernelspec": {
   "display_name": "base",
   "language": "python",
   "name": "python3"
  },
  "language_info": {
   "codemirror_mode": {
    "name": "ipython",
    "version": 3
   },
   "file_extension": ".py",
   "mimetype": "text/x-python",
   "name": "python",
   "nbconvert_exporter": "python",
   "pygments_lexer": "ipython3",
   "version": "3.10.9"
  },
  "orig_nbformat": 4
 },
 "nbformat": 4,
 "nbformat_minor": 2
}
