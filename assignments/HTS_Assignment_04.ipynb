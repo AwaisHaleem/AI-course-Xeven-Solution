{
 "cells": [
  {
   "cell_type": "code",
   "execution_count": 7,
   "metadata": {},
   "outputs": [
    {
     "name": "stdout",
     "output_type": "stream",
     "text": [
      "15\n",
      "15\n"
     ]
    }
   ],
   "source": [
    "#Write a function called calculate_sum that takes a list of numbers as an\n",
    "#argument and returns the sum of those numbers.\n",
    "#Example: Input: calculate_sum([1, 2, 3, 4, 5]) Output: 15\n",
    "\n",
    "# Solution 1\n",
    "def calculate_sum(li):\n",
    "    total = 0                   # place holder for total\n",
    "    for elem in li:\n",
    "        total += elem          # get elements one by one and add it in total\n",
    "    return(total)               #return total\n",
    "print(calculate_sum([1, 2, 3, 4, 5]))\n",
    "\n",
    "# Solution 2\n",
    "def calculate_sum(li):\n",
    "    return sum(li)              # using built-in python function\n",
    "\n",
    "print(calculate_sum([1, 2, 3, 4, 5]))\n"
   ]
  },
  {
   "cell_type": "code",
   "execution_count": 6,
   "metadata": {},
   "outputs": [
    {
     "name": "stdout",
     "output_type": "stream",
     "text": [
      "[1, 2, 3, 4, 5]\n",
      "[1, 2, 3, 4, 5]\n"
     ]
    }
   ],
   "source": [
    "\n",
    "#Write a function called remove_duplicates that takes a list as an argument and\n",
    "#returns a new list with duplicate elements removed.\n",
    "# Input: remove_duplicates([1, 2, 2, 3, 4, 4, 5]) Output: [1, 2, 3, 4, 5]\n",
    "\n",
    "# Solution 1\n",
    "def remove_duplicates(li):\n",
    "    return list(set(li))              # use built in set function to remove duplicates\n",
    "\n",
    "print(remove_duplicates([1, 2, 2, 3, 4, 4, 5]))\n",
    "\n",
    "# solution 2\n",
    "def remove_duplicates(li):\n",
    "    final_li = []                       # make empty final list\n",
    "    for elem in li:                     # get elements one by one\n",
    "        if(elem not in final_li):       # check if element is not in final list\n",
    "            final_li.append(elem)       # add element in final list\n",
    "\n",
    "    return(final_li)                     # return final list with unique values\n",
    "\n",
    "print(remove_duplicates([1, 2, 2, 3, 4, 4, 5]))\n"
   ]
  },
  {
   "cell_type": "code",
   "execution_count": 9,
   "metadata": {},
   "outputs": [
    {
     "name": "stdout",
     "output_type": "stream",
     "text": [
      "20\n",
      "20\n"
     ]
    }
   ],
   "source": [
    "# Write a function called find_max that takes a list of numbers as an argument and\n",
    "# returns the largest number in the list.\n",
    "# Example: Input: find_max([10, 5, 8, 20, 3]) Output: 20\n",
    "\n",
    "# solution 1\n",
    "def find_max(li):\n",
    "    return max(li)      # using python built in max function\n",
    "\n",
    "print(find_max([10, 5, 8, 20, 3]))\n",
    "\n",
    "# solution 2\n",
    "def find_max(li):\n",
    "    max_number = 0                      # placeholder for max_number\n",
    "    for elem in li:                     # get element one by one\n",
    "        if elem > max_number:           # if element is greater thatn placeholder\n",
    "            max_number = elem           # assign element ot placeholder\n",
    "    return max_number\n",
    "\n",
    "print(find_max([10, 5, 8, 20, 3]))\n"
   ]
  },
  {
   "attachments": {},
   "cell_type": "markdown",
   "metadata": {},
   "source": [
    "Write a function called Sentiment_analysis that takes the input string from the\n",
    "user and return the sentiment of the string. Use the Open.ai API for this task.\n",
    "\n",
    "o Example: Input “I am Happy” Output: Positive\n",
    "o Example: Input “I don’t like the Rain” Output: Negative\n",
    "o Example: Input “I am going out” Output: Neutral"
   ]
  },
  {
   "attachments": {},
   "cell_type": "markdown",
   "metadata": {},
   "source": [
    "## Installing Open.ai"
   ]
  },
  {
   "cell_type": "code",
   "execution_count": 12,
   "metadata": {},
   "outputs": [
    {
     "name": "stdout",
     "output_type": "stream",
     "text": [
      "Requirement already satisfied: openai in /Users/sami/anaconda3/lib/python3.10/site-packages (0.27.8)\n",
      "Requirement already satisfied: requests>=2.20 in /Users/sami/anaconda3/lib/python3.10/site-packages (from openai) (2.28.1)\n",
      "Requirement already satisfied: tqdm in /Users/sami/anaconda3/lib/python3.10/site-packages (from openai) (4.64.1)\n",
      "Requirement already satisfied: aiohttp in /Users/sami/anaconda3/lib/python3.10/site-packages (from openai) (3.8.4)\n",
      "Requirement already satisfied: certifi>=2017.4.17 in /Users/sami/anaconda3/lib/python3.10/site-packages (from requests>=2.20->openai) (2022.12.7)\n",
      "Requirement already satisfied: urllib3<1.27,>=1.21.1 in /Users/sami/anaconda3/lib/python3.10/site-packages (from requests>=2.20->openai) (1.26.14)\n",
      "Requirement already satisfied: charset-normalizer<3,>=2 in /Users/sami/anaconda3/lib/python3.10/site-packages (from requests>=2.20->openai) (2.0.4)\n",
      "Requirement already satisfied: idna<4,>=2.5 in /Users/sami/anaconda3/lib/python3.10/site-packages (from requests>=2.20->openai) (3.4)\n",
      "Requirement already satisfied: aiosignal>=1.1.2 in /Users/sami/anaconda3/lib/python3.10/site-packages (from aiohttp->openai) (1.3.1)\n",
      "Requirement already satisfied: multidict<7.0,>=4.5 in /Users/sami/anaconda3/lib/python3.10/site-packages (from aiohttp->openai) (6.0.4)\n",
      "Requirement already satisfied: yarl<2.0,>=1.0 in /Users/sami/anaconda3/lib/python3.10/site-packages (from aiohttp->openai) (1.9.2)\n",
      "Requirement already satisfied: frozenlist>=1.1.1 in /Users/sami/anaconda3/lib/python3.10/site-packages (from aiohttp->openai) (1.3.3)\n",
      "Requirement already satisfied: attrs>=17.3.0 in /Users/sami/anaconda3/lib/python3.10/site-packages (from aiohttp->openai) (22.1.0)\n",
      "Requirement already satisfied: async-timeout<5.0,>=4.0.0a3 in /Users/sami/anaconda3/lib/python3.10/site-packages (from aiohttp->openai) (4.0.2)\n",
      "Note: you may need to restart the kernel to use updated packages.\n"
     ]
    }
   ],
   "source": [
    "\n",
    "!pip install openai"
   ]
  },
  {
   "cell_type": "code",
   "execution_count": 21,
   "metadata": {},
   "outputs": [],
   "source": [
    "import openai\n",
    "\n",
    "openai.api_key = \"api_key\"\n",
    "\n",
    "def Senitment_analysis(text):\n",
    "    messages = [\n",
    "        {\"role\": \"system\", \"content\": \"\"\"You are trained to analyze and detect the sentiment of given text.\n",
    "                                        If you're unsure of an answer, you can say \"not sure\" and recommend users to review manually.\"\"\"},\n",
    "        {\"role\": \"user\", \"content\": f\"\"\"Analyze the following text and determine if the sentiment is positive, negitive or neutral.\n",
    "                                        return answer in a single word as negitive, positive or neutral : {text} \"\"\"}\n",
    "        ]\n",
    "\n",
    "    response = openai.ChatCompletion.create(\n",
    "                      model=\"gpt-3.5-turbo\",\n",
    "                      messages=messages,\n",
    "                      max_tokens=1,\n",
    "                      n=1,\n",
    "                      stop=None,\n",
    "                      temperature=0)\n",
    "\n",
    "    response_text = response.choices[0].message.content.strip().lower()\n",
    "\n",
    "    return response_text"
   ]
  },
  {
   "cell_type": "code",
   "execution_count": 22,
   "metadata": {},
   "outputs": [
    {
     "name": "stdout",
     "output_type": "stream",
     "text": [
      "I'm playing : The Sentiment is neutral\n"
     ]
    }
   ],
   "source": [
    "# calling the function\n",
    "input = 'I\\'m playing'\n",
    "response = Senitment_analysis(input)\n",
    "print(input,': The Sentiment is', response)"
   ]
  },
  {
   "attachments": {},
   "cell_type": "markdown",
   "metadata": {},
   "source": [
    "Write a Function called Tweet_generator() that takes input string from the user\n",
    "and return the Tweet generated on the given topic. Use the open.ai API for this\n",
    "task."
   ]
  },
  {
   "cell_type": "code",
   "execution_count": 23,
   "metadata": {},
   "outputs": [],
   "source": [
    "def tweet_generator(topic):\n",
    "    messages = [\n",
    "        {\"role\": \"system\", \"content\": \"\"\"You are trained on a large amounts of tweets. Write a tweet according to user prompt\"\"\"},\n",
    "        {\"role\": \"user\", \"content\": f\"\"\"write a breif tweet on followint topic.\n",
    "                                        add hashtags in tweet also : {topic} \"\"\"}\n",
    "        ]\n",
    "    \n",
    "    response = openai.ChatCompletion.create(\n",
    "                      model=\"gpt-3.5-turbo\",\n",
    "                      messages=messages,\n",
    "                    #   max_tokens=1,\n",
    "                      n=1,\n",
    "                      stop=None,\n",
    "                      temperature=1)\n",
    "\n",
    "    response_text = response.choices[0].message.content.strip().lower()\n",
    "\n",
    "    return response_text"
   ]
  },
  {
   "cell_type": "code",
   "execution_count": 24,
   "metadata": {},
   "outputs": [
    {
     "name": "stdout",
     "output_type": "stream",
     "text": [
      "\"excited to see how #artificialintelligence is reshaping the future of technology! from self-driving cars to virtual assistants, the possibilities are endless 🤖🚗💻 #ai #techrevolution\"\n"
     ]
    }
   ],
   "source": [
    "# calling the function\n",
    "input = 'Artificial Intellegence'\n",
    "response = tweet_generator(input)\n",
    "print(response)"
   ]
  }
 ],
 "metadata": {
  "kernelspec": {
   "display_name": "base",
   "language": "python",
   "name": "python3"
  },
  "language_info": {
   "codemirror_mode": {
    "name": "ipython",
    "version": 3
   },
   "file_extension": ".py",
   "mimetype": "text/x-python",
   "name": "python",
   "nbconvert_exporter": "python",
   "pygments_lexer": "ipython3",
   "version": "3.10.9"
  },
  "orig_nbformat": 4
 },
 "nbformat": 4,
 "nbformat_minor": 2
}
